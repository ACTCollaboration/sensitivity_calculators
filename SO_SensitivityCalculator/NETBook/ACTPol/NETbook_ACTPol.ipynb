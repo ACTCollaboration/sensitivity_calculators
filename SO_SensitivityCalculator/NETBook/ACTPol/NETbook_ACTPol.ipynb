{
 "cells": [
  {
   "cell_type": "markdown",
   "metadata": {},
   "source": [
    "### NETbook  \n",
    "## November 30, 2016 by SMB (original code by STS)\n",
    "\n",
    "This Sensitivity Calculator module calculates the optimal $P_{\\gamma}$, $P_{sat}$, $G$, $T_c$, as well as the total optical efficiency of the system $(\\eta_{system})$ and net array sensitivity (NET) given information on the optics elements, detector efficiency, atmosphere, etc. A structure, $\\it{SensStruct}$ containing these calculated results is another output of NETbook. Note that $P_{sat}$, $G$, and $T_c$ can alternatively be fixed as input rather than output. The original calculator was used to make and validate predictions for ACTPol and AdvACT. Types of studies done in the past include proposal writing, choosing filter bandpass targets, evaluating the importance of bath temperatures 100mK cf 300mK, evaluating mapping speed losses from new/different optical elements' configurations, and optimizing per-detector aperture size (feedhorn apertures) given the Lyot stop angular size. A chart outlining the inputs and outputs of NETbook is below: \n",
    "\n",
    "<img src=\"NETbook.png\">\n",
    "\n",
    "A file containing the default values is used as input and two files are written as output; $\\it{Output1}$ contains Pγ, $P_{sat}$, $G$, $T_c$, $\\eta_{system}$ and NET, while $\\it{Output2}$ contains the name of each optical element along with its emissivity, efficiency, temperature, and loading power. These values are then used to create a table showing the forecast of the instrument. See below."
   ]
  },
  {
   "cell_type": "markdown",
   "metadata": {},
   "source": [
    "First, the necessary libraries and modules are imported and the constants are set. The directory 'OUTPUT_FILES' is also created, if necessary, to store the time-stamped output files that will be generated later."
   ]
  },
  {
   "cell_type": "code",
   "execution_count": 1,
   "metadata": {
    "collapsed": false
   },
   "outputs": [
    {
     "name": "stderr",
     "output_type": "stream",
     "text": [
      "/Users/charlie/anaconda2/lib/python2.7/site-packages/matplotlib/font_manager.py:273: UserWarning: Matplotlib is building the font cache using fc-list. This may take a moment.\n",
      "  warnings.warn('Matplotlib is building the font cache using fc-list. This may take a moment.')\n"
     ]
    }
   ],
   "source": [
    "import numpy as np\n",
    "import scipy.io.idl\n",
    "%matplotlib inline\n",
    "import matplotlib\n",
    "import matplotlib.pyplot as plt\n",
    "import datetime\n",
    "import time\n",
    "import os\n",
    "\n",
    "h = 6.626e-34 #Planck's constant\n",
    "k = 1.381e-23 #Boltzmann's constant\n",
    "Tcmb = 2.725 #CMB temperature\n",
    "\n",
    "if not os.path.exists('OUTPUT_FILES'):\n",
    "    os.makedirs('OUTPUT_FILES')"
   ]
  },
  {
   "cell_type": "markdown",
   "metadata": {},
   "source": [
    "The next two cells of code contain the $\\bf{BP}$ $\\bf{Module}$, which defines the bandpass filter. These will be used later by functions $\\bf{Pow}$ and $\\bf{Calculate}$. First, we define the structure, $\\bf{BPStruct}$, which contains the center frequency  ($\\nu$), the filter function (in this case just a tophat), the bandpass ($\\Delta \\nu$), and the element index, n. "
   ]
  },
  {
   "cell_type": "code",
   "execution_count": 2,
   "metadata": {
    "collapsed": true
   },
   "outputs": [],
   "source": [
    "class BPStruct:\n",
    "\n",
    "    def __init__(self, nu, filt, dnu, n):\n",
    "\n",
    "        self.nu = nu\n",
    "        self.filt = filt\n",
    "        self.dnu = dnu\n",
    "        self.n = n"
   ]
  },
  {
   "cell_type": "markdown",
   "metadata": {},
   "source": [
    "Now, we define the function $\\bf{BP}$, which defines the bandpass, returning a structure in the form of the class $\\bf{BPStruct}$. \"bp.nu\" is a vector of frequencies in GHz, \"bp.dnu\" defines the step size, \"bp.n\" gives the number of frequency values, and \"bp.filter\" defines the tophat filter convolved with a gaussian of width $\\sigma$. The default is $\\sigma = 1$. "
   ]
  },
  {
   "cell_type": "code",
   "execution_count": 3,
   "metadata": {
    "collapsed": true
   },
   "outputs": [],
   "source": [
    "def BP(nu, deltanu, sigma = 1.0, threshold = 0.001):\n",
    "\n",
    "    xmax = 5.0 * deltanu + nu #Define minimum and maximum frequencies around the center\n",
    "    xmin = nu - 5.0 * deltanu\n",
    "    nx = xmax - xmin + 1\n",
    "    if xmin < 0: \n",
    "        xmin = 0 \n",
    "    x = np.arange(100*nx)/100. + xmin\n",
    "\n",
    "\n",
    "    #set tophat to 1 where x is close to nu, 0 otherwise\n",
    "    tophat = np.where((x >= nu-deltanu/2.0) * (x <= nu+deltanu/2.0), \n",
    "                      np.ones(len(x)), np.zeros(len(x)))\n",
    "\n",
    "    xg = x - (xmax - xmin)/2.0\n",
    "    kernel = np.exp(-xg**2/2./sigma**2)\n",
    "    smallkernel = [] #get rid of small values in kernel that won't matter\n",
    "\n",
    "    for i in range(len(kernel)):\n",
    "        if kernel[i] > threshold: \n",
    "            smallkernel.append(kernel[i])\n",
    "\n",
    "    result = np.correlate(tophat, smallkernel, mode = 'same')\n",
    "    useband = []\n",
    "\n",
    "    for i in range(len(result)):\n",
    "        if result[i] > threshold: \n",
    "            useband.append(i)\n",
    "\n",
    "    result = result[useband] #gets rid of values too small to matter\n",
    "    nuvec = x[useband]\n",
    "    result = result/np.max(result)\n",
    "    dnu = nuvec[1] - nuvec[0]\n",
    "    #frequency range:\n",
    "    nulow = nuvec[0] #lower bound\n",
    "    nuhigh = nuvec[len(nuvec)-1] #upper bound\n",
    "    FreqRange = open(\"FreqRange.txt\", \"w\")\n",
    "    FreqRange.write(str(nulow) + \",\" + str(nuhigh))\n",
    "    FreqRange.close()\n",
    "    n = len(nuvec)\n",
    "\n",
    "    return BPStruct(nu = nuvec, filt = result, dnu = dnu, n = n)"
   ]
  },
  {
   "cell_type": "markdown",
   "metadata": {},
   "source": [
    "The class $\\bf{ListTable}$ is defined here. Later, it will be used to create a table from calculated results. "
   ]
  },
  {
   "cell_type": "code",
   "execution_count": 4,
   "metadata": {
    "collapsed": true
   },
   "outputs": [],
   "source": [
    "class ListTable(list):\n",
    "    \"\"\" Overridden list class which takes a 2-dimensional list of \n",
    "        the form [[1,2,3],[4,5,6]], and renders an HTML Table in \n",
    "        IPython Notebook. \"\"\"\n",
    "    \n",
    "    def _repr_html_(self):\n",
    "        html = [\"<table>\"]\n",
    "        for row in self:\n",
    "            html.append(\"<tr>\")\n",
    "            \n",
    "            for col in row:\n",
    "                html.append(\"<td>{0}</td>\".format(col))\n",
    "            \n",
    "            html.append(\"</tr>\")\n",
    "        html.append(\"</table>\")\n",
    "        return ''.join(html)"
   ]
  },
  {
   "cell_type": "markdown",
   "metadata": {
    "collapsed": true
   },
   "source": [
    "Next, the class $\\bf{OpticsElement}$ is defined. This class will be used to define each optical element from the CMB (n=0) down to the detectors (n=18). Each optical element is assigned an index, n, and then is defined by its transmission, emissivity, temperature, and loading power (the power emitted from the element). $\\eta_{to}$ defines the total loss from the CMB at n=0 down to element n. "
   ]
  },
  {
   "cell_type": "code",
   "execution_count": 5,
   "metadata": {
    "collapsed": true
   },
   "outputs": [],
   "source": [
    "class OpticsElement:\n",
    "\n",
    "    index = None\n",
    "    trans = None\n",
    "    etaa = None\n",
    "    T = None\n",
    "    name = None\n",
    "    pload = None\n",
    "    etato = None  \n",
    "\n",
    "    def __init__(self, index, etaa, trans, T, name, pload = 0.0, etato =0.0):\n",
    "        self.index = index\n",
    "        self.trans = trans\n",
    "        self.etaa = etaa\n",
    "        self.T = T\n",
    "        self.name = name\n",
    "        self.pload = pload\n",
    "        self.etato = etato"
   ]
  },
  {
   "cell_type": "markdown",
   "metadata": {},
   "source": [
    "Below, the data structure $\\bf{SensStruct}$ (abbreviation for $\\it{Sensitivity}$ $\\it{Structure}$) is defined. $\\bf{SensStruct}$ contains the key information we want to extract from our calculations. The function $\\bf{Calculate}$, defined later, will return this structure populated with the calculated values."
   ]
  },
  {
   "cell_type": "code",
   "execution_count": 6,
   "metadata": {
    "collapsed": false
   },
   "outputs": [],
   "source": [
    "class SensStruct:\n",
    "\n",
    "    def __init__(self, nu, deltanu, etadet, pwv, Tbath, psafety, nTES,\n",
    "                 yieldFrac, opticsinfo, ptot, popt, patm, psky, Psat, G, Tc,\n",
    "                 NEPG, NEPshot, NEPdicke, NEPphoton, NEPsky, NEPtot, NEPtotcmb,\n",
    "                 arrayNEP, etasky, cmbfactor):\n",
    "\n",
    "        vars = locals()\n",
    "        for key in vars:\n",
    "            if key != \"self\": self.__dict__[key] = vars[key]"
   ]
  },
  {
   "cell_type": "markdown",
   "metadata": {},
   "source": [
    "Next, the function $\\bf{get}$_$\\bf{Tatm}$ is defined, relevant at $40^{\\circ}$ elevation. The Pardo (ATM) model is used to simulate the effects of the atmosphere. Note that a different atmospheric model, $\\it{am}$ (website: https://www.cfa.harvard.edu/~spaine/am/), is used in POLARBEAR and Spider. The primary relevant difference between $\\it{am}$ and Pardo/ATM is how they model the atmospheric continuum. $\\it{am}$ uses a physical model that runs through calculations of the quantum cross sections for collisions of molecules in the atmosphere. ATM uses Raleigh-Jeans spectrum instead, which is a good estimate for ground-based experiments. Note that $T_{atm}$ is not the physical ambient temperature, but is a number defined to estimate the absorption factor, $\\eta_{atm}$, by which the CMB is attenuated, consistent with ATM calculations. This method of calculating $T_{atm}$ to determine $\\eta_{atm}$ is just for now, however. In the future, we will develop a better method to extract this absorption factor from the ATM model without these additional calculations. Also note that we assume one PWV here rather than interpolating between multiple PWV values. \n",
    "\n",
    "Specifically:\n",
    "\n",
    "$T_{atm} = a + b \\times PWV$ \n",
    "\n",
    "where for $\\nu = [90, 145, 220]$, \n",
    "$a = [3.5, 3.86, 4.0] K$\n",
    "and\n",
    "$b = [4.0, 6.64, 14.4] K/mm$\n",
    "\n",
    "Then,\n",
    "$\\eta_{atm} = 1 - \\frac{T_{atm}}{T_{phys}}$,\n",
    "\n",
    "where $T_{phys}$ is the physical ambient temperature.\n",
    "(See $\\bf{Calculate}$ for relevant calculations).\n",
    "\n",
    "The atmospheric model is read in from $\\it{atm}$_$\\it{act.sav}$ and is separated into three arrays, one for PWV, one for frequency, and one for $T_{atm}$. Then, we compute a spline interpolation with the same frequency range to calculate $T_{atm}$, the output of this function. "
   ]
  },
  {
   "cell_type": "code",
   "execution_count": 7,
   "metadata": {
    "collapsed": false
   },
   "outputs": [],
   "source": [
    "def get_Tatm(savefile, pwv, interp_freqs): #interp_freqs=filter.nu; see function pload()\n",
    "    savedata = scipy.io.idl.readsav(savefile)\n",
    "    Pardo_pwv = savedata['jeffatm'].pwv[0]\n",
    "    Pardo_freqs = savedata['jeffatm'].f[0]\n",
    "    Pardo_Tatm = savedata['jeffatm'].tatm[0].transpose()\n",
    "    first_matching_index = None\n",
    "\n",
    "    for i in range(Pardo_pwv.size):\n",
    "        #0.01 is threshold\n",
    "        if np.abs(Pardo_pwv[i] - pwv) < 0.01:\n",
    "            first_matching_index = i #index of first value in Pardo_pwv within 0.01mm of the set value for pwv. \n",
    "            break\n",
    "\n",
    "    if first_matching_index == None:\n",
    "        print('Choose from 0.25, 0.50, ... 3.50')\n",
    "        return None\n",
    "\n",
    "    if np.all(np.diff(Pardo_freqs) > 0):\n",
    "        Tatm = np.interp(interp_freqs, Pardo_freqs, Pardo_Tatm[first_matching_index])\n",
    "        return Tatm\n",
    "    \n",
    "    else:\n",
    "        raise ValueError(\"Pardo frequencies are not strictly increasing\")\n"
   ]
  },
  {
   "cell_type": "markdown",
   "metadata": {},
   "source": [
    "The function $\\bf{Pow}$ is defined below with some default values set for its inputs. $\\bf{Pow}$ assigns a tophat filter if no filter has already been specified. It also assigns a default $\\nu$ and $\\Delta \\nu$ in the absence of preassigned values. A similar segment of $\\it{if}$ statements is found in the function $\\bf{Calculate}$, but must be repeated here in the event that $\\bf{Pow}$ is called outside of $\\bf{Calculate}$. Note that $\\eta$ here refers to $\\eta_{to}$, the total loss up to element n (from the CMB at n=0). \n",
    "\n",
    "The purpose of this function is to calculate loading power. Later, the function $\\bf{pload}$ will call this function to make calculations for each optical element. "
   ]
  },
  {
   "cell_type": "code",
   "execution_count": 8,
   "metadata": {
    "collapsed": false
   },
   "outputs": [],
   "source": [
    "def Pow(name, eta = 0.2, nu = None, deltanu = None, temp = 10.0, n0 = None,\n",
    "            quiet = False, filter = None):\n",
    "    \n",
    "    if filter == None: \n",
    "        tophat = True\n",
    "\n",
    "    else: tophat = False\n",
    "\n",
    "    if tophat:\n",
    "        if nu == None: \n",
    "            nu = 145.0\n",
    "        if deltanu == None:\n",
    "            if nu <= 100: \n",
    "                deltanu = 21.0\n",
    "            if nu > 100 and nu <= 200: \n",
    "                deltanu = 34.0\n",
    "            if nu > 200: \n",
    "                deltanu = 39.0\n",
    "\n",
    "        bp = BP(nu, deltanu, sigma=sigma, threshold=0.001) \n",
    "        #bp defines frequency range to report out\n",
    "        dnu = 1.0\n",
    "\n",
    "    else:\n",
    "\n",
    "        nu = filter.nu\n",
    "        bp = filter.filt\n",
    "        dnu = filter.dnu\n",
    "\n",
    "                     \n",
    "    nu = nu*1e9 #convert to Hz\n",
    "    dnu = dnu*1e9 #convert to Hz\n",
    "    \n",
    "    x = h*nu/k/temp #See discussion above function Calculate()\n",
    "    n0 = 1./(np.exp(x) - 1)\n",
    "    \n",
    "    \n",
    "    power = eta*h*nu*n0*dnu*1e12*bp \n",
    "    #summing Planck blackbody power as a function of frequency in a narrow frequency band \n",
    "    pow = np.sum(power)\n",
    "    meanetan0 = np.sum(eta*n0*bp)/np.sum(bp)\n",
    "    meannu = np.sum(nu*bp)/np.sum(bp)\n",
    "    deltanu = np.sum(bp*dnu)/1e9\n",
    "    nu = meannu/1e9\n",
    "    \n",
    "    if not quiet:\n",
    "        print(str(name) + \": eta*n0 = \" +  str(meanetan0) + \"; pow = \" + str(pow) + \" pW\")\n",
    "    return pow"
   ]
  },
  {
   "cell_type": "markdown",
   "metadata": {},
   "source": [
    "Below, we import a text file containing the input values. Here, we use a set of default values in the file $\\it{Default}$_$\\it{Input.txt}$. Any file in the same format could be imported and read instead in order to complete calculations with alternate values. For the sake of bookeeping, please write a new input file with a new file name in order to test different inputs rather than changing values in an existing file. The output files stored in the directory, 'OUTPUT_FILES' are stamped with the name of the input file used, so it is beneficial to keep a good record of these different input files and the values they contain. "
   ]
  },
  {
   "cell_type": "code",
   "execution_count": 9,
   "metadata": {
    "collapsed": false
   },
   "outputs": [
    {
     "ename": "IOError",
     "evalue": "[Errno 2] No such file or directory: 'Default_Input.txt'",
     "output_type": "error",
     "traceback": [
      "\u001b[0;31m---------------------------------------------------------------------------\u001b[0m",
      "\u001b[0;31mIOError\u001b[0m                                   Traceback (most recent call last)",
      "\u001b[0;32m<ipython-input-9-93399ddf3dc5>\u001b[0m in \u001b[0;36m<module>\u001b[0;34m()\u001b[0m\n\u001b[0;32m----> 1\u001b[0;31m \u001b[0mf\u001b[0m\u001b[0;34m=\u001b[0m\u001b[0mopen\u001b[0m\u001b[0;34m(\u001b[0m\u001b[0;34m'Default_Input.txt'\u001b[0m\u001b[0;34m,\u001b[0m\u001b[0;34m\"r\"\u001b[0m\u001b[0;34m)\u001b[0m\u001b[0;34m\u001b[0m\u001b[0m\n\u001b[0m\u001b[1;32m      2\u001b[0m \u001b[0mInputFileName\u001b[0m \u001b[0;34m=\u001b[0m \u001b[0mf\u001b[0m\u001b[0;34m.\u001b[0m\u001b[0mname\u001b[0m\u001b[0;34m\u001b[0m\u001b[0m\n\u001b[1;32m      3\u001b[0m \u001b[0mlines\u001b[0m\u001b[0;34m=\u001b[0m\u001b[0mf\u001b[0m\u001b[0;34m.\u001b[0m\u001b[0mreadlines\u001b[0m\u001b[0;34m(\u001b[0m\u001b[0;34m)\u001b[0m\u001b[0;34m\u001b[0m\u001b[0m\n\u001b[1;32m      4\u001b[0m \u001b[0mInputValues\u001b[0m\u001b[0;34m=\u001b[0m\u001b[0;34m[\u001b[0m\u001b[0;34m]\u001b[0m\u001b[0;34m\u001b[0m\u001b[0m\n\u001b[1;32m      5\u001b[0m \u001b[0;32mfor\u001b[0m \u001b[0mi\u001b[0m \u001b[0;32min\u001b[0m \u001b[0mrange\u001b[0m\u001b[0;34m(\u001b[0m\u001b[0;36m0\u001b[0m\u001b[0;34m,\u001b[0m \u001b[0mlen\u001b[0m\u001b[0;34m(\u001b[0m\u001b[0mlines\u001b[0m\u001b[0;34m)\u001b[0m\u001b[0;34m-\u001b[0m\u001b[0;36m1\u001b[0m\u001b[0;34m)\u001b[0m\u001b[0;34m:\u001b[0m\u001b[0;34m\u001b[0m\u001b[0m\n",
      "\u001b[0;31mIOError\u001b[0m: [Errno 2] No such file or directory: 'Default_Input.txt'"
     ]
    }
   ],
   "source": [
    "f=open('Default_Input_ACTPol.txt',\"r\")\n",
    "InputFileName = f.name\n",
    "lines=f.readlines()\n",
    "InputValues=[]\n",
    "for i in range(0, len(lines)-1):\n",
    "    InputValues.append(lines[i].split(',')[1])\n",
    "f.close()"
   ]
  },
  {
   "cell_type": "markdown",
   "metadata": {},
   "source": [
    "The function $\\bf{Calculate}$, the heart of NETbook, is defined below. \n",
    "\n",
    "For the case when any of $\\it{filter}$, $\\nu$, and/or $\\Delta \\nu$ are set to $\\bf{None}$, a process is outlined for assigning values to them. With $\\it{filter}$ set to $\\bf{None}$, a simple tophat is used as our bandpass filter function, 'bp.' However, $\\it{filter}$ can be set to more realistic functions, in which case $\\nu$, $\\Delta\\nu$ and  'bp' are defined accordingly. Frequency values are in GHz. Note that the function 'bp' chooses the frequency range to report out. We will read in the atmosphere model from $\\it{atm}$_$\\it{act.sav}$, spline it to the same freq range, and then calculate its average to use in estimating the atmospheric absorption efficiency, $\\eta_{atm}$. (See $\\bf{get}$_$\\bf{Tatm}$). \n",
    "\n",
    "We go through each component in the optical path from the CMB down to the detectors, initializing as needed. The class $\\bf{OpticsElement}$ defined above is used here to establish each optical element. Components include the atmosphere, Mirrors 1 and 2, the window, IR 1-4, LP40, LP4K, lenses 1-3, the stop, LP1a, LP1b, and LPp1. One at a time, each optical element's information is appended to the array, \"opticsinfo.\" For now, the number and order of the optical elements is pre-established, but our intent is to make this easy to change. \n",
    "\n",
    "For the atmosphere, we must first call $\\bf{get}$_$\\bf{Tatm}$ in order to calculate $T_{atm}$. From $T_{atm}$, we solve for $T_{phys}$ and $\\eta_{atm}$.\n",
    "\n",
    "After the array, \"opticsinfo,\" is filled, we call the functions $\\bf{pload}$ and $\\bf{Pow}$ to calculate loading power. We calculate total loading power, the loading power of the atmosphere alone as well as the atmosphere plus the CMB, and the loading power of just the optical elements in the telescope (minus the CMB and atmosphere).\n",
    "\n",
    "Finally, we can calculate the optimal numbers we want to know: saturation power, $P_{sat}$, thermal conductance to the bath, G, optimal TES critical temperature, $T_{c}$, total optical efficiency of the system, $\\eta_{system}$, and the net array sensitivity, NET. Noise equivalent power (NEP) as well as the conversion factor, $r$ that converts CMB temperature fluctuations in Kelvin at the input to Watts at the detectors, must also be calculated in order to solve for NET. The relevant equations are below:\n",
    "\n",
    "$P_{sat} = S \\times P_{\\gamma}$, where $S$ is the safety factor.\n",
    "\n",
    "$G = \\frac{\\partial P}{\\partial T_{c}} = n \\kappa T_{c}^{n-1} = 2.3\\frac{P_{sat}}{T_{bath}}$, where $n$ is a constant ($n \\approx 2.7$), and $\\kappa = \\frac{SP_{\\gamma}}{T_{c}^{n}-T_{bath}^{n}}$. \n",
    "\n",
    "$T_{c} = (n+1)^{\\frac{1}{n}}T_{bath} \\approx \\frac{5}{3}T_{bath}$  (Optimal $T_{c}$ for $n \\approx 2.7$)\n",
    "\n",
    "$NEP^{2} = 4 k_{B} f_{link} T_{c}^{2}(\\frac{nT_{c}^{n-1}SP_{\\gamma}}{T_{c}^{n}-T_{bath}^{n}}) \\propto \\frac{T_{c}^{n+1}}{T_{c}^{n} - T_{bath}^{n}}$, where $k_{B}$ is Boltzmann's constant and $f_{link} = 1.0$.   \n",
    "\n",
    "$r = (\\frac{\\partial P}{\\partial T})^{-1} = \\frac{k_{B}x^{2}e^{x}\\Delta \\nu}{(e^{x}-1)^{2}}$, where $x=\\frac{h\\nu}{k_{B}T_{CMB}}$.\n",
    "\n",
    "Finally,\n",
    "\n",
    "$NET = \\frac{NEP}{\\sqrt{2N_{TES}}r}$, where $N_{TES}$ is the number of (functioning) bolometers. \n",
    "\n",
    "Note that $n$ and $f_{link}$ are parameters in $\\bf{Calculate}$. Default values are $n = 2.7$ and $f_{link} = 1.0$. These numbers can be changed either by setting them manually when $\\bf{Calculate}$ is called or they can be read in from a file. The current input file containing default values does not contain any information on these two values. "
   ]
  },
  {
   "cell_type": "code",
   "execution_count": 12,
   "metadata": {
    "collapsed": false
   },
   "outputs": [],
   "source": [
    "def Calculate(nu, deltanu, quiet, etadet, pwv, etafeed, etamir, Tbath, etalensa, etawinr, \n",
    "              etawina, psafety, Twin, Tmir, T4K, Tstop, etafilta, sigma, nTES, yieldFrac, \n",
    "              etafiltr, etairfilt, totpow, TLP40K, TLP4K, TLP1K, T1K, T100mK, etalensr, n, flink, filter, savefile):\n",
    "    \n",
    "    if filter == None:\n",
    "        if nu == None: \n",
    "            nu = 145.0\n",
    "        if deltanu == None:\n",
    "            if sigma==None: \n",
    "                sigma = 1.0\n",
    "            if nu <= 100: \n",
    "                deltanu = 21.0\n",
    "            if nu > 100 and nu <= 200: \n",
    "                deltanu = 34.0\n",
    "            if nu > 200: \n",
    "                deltanu = 39.0\n",
    "                    \n",
    "        bp = BP(nu, deltanu, sigma=sigma, threshold=0.001)  \n",
    "         #Above, we just use a simple tophat (bandpass) as a filter. \n",
    "        #In the future, will try more realistic filter functions.\n",
    "    \n",
    "    else:\n",
    "        bp = filter\n",
    "        nu = np.sum(bp.nu*bp.filt)/np.sum(bp.filt)\n",
    "        deltanu = np.sum(bp.filt*bp.dnu)\n",
    "        opticsinfo = []\n",
    "\n",
    "    if n == None: #default n\n",
    "        n = 2.7\n",
    "        \n",
    "    if flink == None: #default flink\n",
    "        flink = 1.0\n",
    "        \n",
    "    #NOW GO THROUGH COMPONENTS IN OPTICAL PATH, INITIALIZING AS NEEDED \n",
    "    #Note that in this step, pload is not yet defined.\n",
    "\n",
    "    opticsinfo = []\n",
    "    \n",
    "    #CMB\n",
    "    opticsinfo.append(OpticsElement(index = 0, etaa = 1.0, trans = 1.0, T = Tcmb, name = 'CMB'))\n",
    "    \n",
    "    Tatm = get_Tatm(savefile, pwv, bp.nu)\n",
    "    mean_delta_nu = np.sum(bp.filt*bp.dnu) #for a tophat, this is just deltanu\n",
    "    mTatm = np.sum(Tatm*bp.filt*bp.dnu)/mean_delta_nu #average Tatm\n",
    "    #print('bp.filt is: ' + str(bp.filt[1]))\n",
    "    Tphys = np.max(Tatm) + 1.0\n",
    "    if Tphys <= 250: \n",
    "        Tphys = 273.0\n",
    "    etaatm = 1.0 - mTatm/Tphys\n",
    "\n",
    "    #atmosphere\n",
    "    #pload will instead use vector for etaa\n",
    "    #pload will switch pwv to mean Tatm for printing\n",
    "    opticsinfo.append(OpticsElement(1, etaa=etaatm, trans=etaatm, T = pwv, name='ATM'))\n",
    "\n",
    "    #primary mirror\n",
    "    opticsinfo.append(OpticsElement(2, etaa = etamir, trans = etamir, T = Tmir, name = 'MIR1'))\n",
    "\n",
    "    #secondary mirror\n",
    "    opticsinfo.append(OpticsElement(3, etaa =etamir, trans = etamir, T = Tmir, name = 'MIR2'))\n",
    "\n",
    "    #window \n",
    "    opticsinfo.append(OpticsElement(4, etaa = etawina, trans = etawina + etawinr -1.0, T = Twin, name = \"WIN\"))\n",
    "\n",
    "    #300K IR Blocker\n",
    "    opticsinfo.append(OpticsElement(5, etaa = etairfilt, trans = etairfilt, T = Twin, name = 'IR1'))\n",
    "\n",
    "    #40K IR Blocker (#1?)\n",
    "    opticsinfo.append(OpticsElement(6, etaa =etairfilt, trans =etairfilt, T = 170.0, name = 'IR2'))\n",
    "\n",
    "    #40k LP Filter (12 cm^{-1})\n",
    "    #for 2mm polypropylene\n",
    "    opticsinfo.append(OpticsElement(7, etaa = etafilta, trans = etafiltr +etafilta -1.0, T = TLP40K, name = 'LP40'))\n",
    "\n",
    "    #3K IR Blocker\n",
    "    opticsinfo.append(OpticsElement(8, etaa = etairfilt, trans = etairfilt, T = TLP40K, name = 'IR3'))\n",
    "\n",
    "    #3K IR Blocker (#2?)\n",
    "    opticsinfo.append(OpticsElement(9, etaa = etairfilt, trans = etairfilt, T = 40.0, name = 'IR4'))\n",
    "\n",
    "    #3K LP filter (9 cm^{-1})\n",
    "    opticsinfo.append(OpticsElement(10, etaa = etafilta, trans = etafiltr +etafilta -1.0, T = TLP4K, name = 'LP4K'))\n",
    "\n",
    "    #3K Lens 1\n",
    "    opticsinfo.append(OpticsElement(11, etaa = etalensa, trans = etalensr + etalensa -1.0, T = T4K, name = 'lens1'))\n",
    "\n",
    "    #1K stop\n",
    "    opticsinfo.append(OpticsElement(12, etaa = etafeed, trans = etafeed, T = Tstop, name = 'STOP'))\n",
    "\n",
    "    #1K lens (2)\n",
    "    opticsinfo.append(OpticsElement(13, etaa = etalensa, trans = etalensr + etalensa -1.0, T = T1K, name = 'lens2'))\n",
    "\n",
    "    #1K LP filter (7 cm^{-1})\n",
    "    opticsinfo.append(OpticsElement(14, etaa = etafilta, trans = etafiltr + etafilta -1.0, T = TLP1K, name = 'LP1a'))\n",
    "\n",
    "    #1K LP filter (6.2 cm^{-1})\n",
    "    opticsinfo.append(OpticsElement(15, etaa = etafilta, trans = etafiltr + etafilta -1.0, T = TLP1K, name = 'LP1b'))\n",
    "\n",
    "    #1K lens (3)\n",
    "    opticsinfo.append(OpticsElement(16, etaa = etalensa, trans = etalensr + etalensa -1.0, T = T1K, name = 'lens3'))\n",
    "\n",
    "    #100 mK LP filter (5.75 icm)\n",
    "    opticsinfo.append(OpticsElement(17, etaa = etafilta, trans = etafilta + etafiltr - 1.0, T = T100mK, name = 'LPp1'))\n",
    "    \n",
    "    #Detectors\n",
    "    opticsinfo.append(OpticsElement(18, etaa = etadet, trans = etadet, T = 0.0, name = 'DETS'))\n",
    "    \n",
    "    noptics = len(opticsinfo) #number of optical elements\n",
    "    etasky = 1.0 #Starting value is 100% transmission\n",
    "\n",
    "    for i in range(noptics): #step through each optical element to calculate total transmission.\n",
    "        etasky = etasky * opticsinfo[i].trans\n",
    "\n",
    "        \n",
    "    #Now we calculate the loading power. \n",
    "    \n",
    "    opticsinfo[0].pload = Pow(eta = etasky, filter = bp, temp = opticsinfo[0].T, \n",
    "        name = opticsinfo[0].name, quiet = True) #call function Pow() to calculate loading power of CMB\n",
    "\n",
    "    ptot = opticsinfo[0].pload  #ptot is the loading power; Initially set to just that of the CMB\n",
    "\n",
    "    for i in range(0, noptics-1): #-1 to avoid dividing by zero when calculating NEP_shot later. (pload for detectors at n=18 is zero) \n",
    "        pload(opticsinfo, i, bp, savefile)\n",
    "        ptot = ptot + opticsinfo[i].pload #Step through each optical element and add up all the loading power terms to get total loading.\n",
    "\n",
    "    psky = opticsinfo[0].pload + opticsinfo[1].pload #just loading power from CMB and atmosphere\n",
    "\n",
    "    patm = opticsinfo[1].pload #just atmospheric loading\n",
    "\n",
    "    popt = ptot - psky #loading of all optical elements from just the telescope (atmosphere and CMB excluded)\n",
    "\n",
    "    #Now, we calculate the optimal values we want to know      \n",
    "    Psat = psafety*ptot*1e-12\n",
    "    #G = 2.3*Psat/Tbath #specifically, for flink=1.0 and n=2.7\n",
    "    #Tc = Tbath*5.0/3.0 #specifically, for flink=1.0 and n=2.7\n",
    "    Tc = Tbath*(n + 1)**(1./n)\n",
    "    kappa = Psat/(Tc**n - Tbath**n)\n",
    "    G=kappa*n*Tc**(n-1)\n",
    "    \n",
    "    #Noise Equivalent Power is calculated separately for each contributing source of noise. \n",
    "    NEPG = np.sqrt(4.0*k*(Tc**2)*G)# Assuming worst case scenario, f_link = 1.0; In the future, \n",
    "    #I will change this so that NEP will change as we vary f_link as a paramter. \n",
    "    tau = 0.5; #for calculating W/rt(Hz) use tau = 0.5s\n",
    "    nu = nu*1e9 #put frequencies in Hz\n",
    "    deltanu = deltanu*1e9\n",
    "    NEPshot = np.sqrt(h*nu/tau*ptot*1e-12)\n",
    "    NEPdicke = np.sqrt((ptot*1e-12)**2/deltanu/tau)\n",
    "    NEPphoton = np.sqrt(NEPshot**2 + NEPdicke**2)\n",
    "    NEPsky = np.sqrt(h*nu/tau*psky*1e-12 + (psky*1e-12)**2/deltanu/tau)\n",
    "\n",
    "    NEPtot = np.sqrt(NEPdicke**2 + NEPshot**2 + NEPG**2)\n",
    "\n",
    "    x = h*nu/k/Tcmb #consider flucns around Tcmb\n",
    "\n",
    "    r = k*x**2*np.exp(x)/(np.exp(x) - 1.0)**2 * deltanu\n",
    "\n",
    "    if totpow != 0: r = 2.*r \n",
    "\n",
    "    #refered back to sky but with units K and pW\n",
    "\n",
    "    factorKpW = 1e-12/r/etasky \n",
    "\n",
    "    #refer back to sky and switch rt(Hz) to rt(s)\n",
    "\n",
    "    r = 1.0/r/np.sqrt(2.0)/etasky \n",
    "    NEPtotcmb = NEPtot*r*1e6 #change units to microK (rt(s))\n",
    "    ntot = yieldFrac*nTES \n",
    "    arrayNEP = NEPtotcmb/np.sqrt(ntot)\n",
    "    nu = nu/1e9\n",
    "    deltanu = deltanu/1e9\n",
    "    \n",
    "    #All output files are time stamped and the name of the input file used is written into the file\n",
    "    \n",
    "    OutputNET = open(\"NETValues.txt\", \"w\")\n",
    "    OutputNET.write(\"NET\")\n",
    "    OutputNET.write(\" \\n\")\n",
    "    OutputNET.write(str(arrayNEP))\n",
    "    OutputNET.write(\" \\n\")\n",
    "    OutputNET.write(datetime.datetime.now().ctime())\n",
    "    OutputNET.write(\" \\n\")\n",
    "    OutputNET.write(\"Input file: \" + str(InputFileName))\n",
    "    OutputNET.close()\n",
    "    \n",
    "      \n",
    "    if not quiet: #\"quiet\" just determines whether all these values will be printed and the output files will be rewritten.\n",
    "        #this file is rewritten each time Calculate() is called and then used later in NETbook to print relevant values.\n",
    "        Output = open('OutputValues.txt', \"w\")\n",
    "        Output.write(\"Psat, G, Tc, eta_system, NET\") #etasystem is the total system efficiency from the sky down to the detectors\n",
    "        Output.write(\" \\n\")\n",
    "        Output.write(str(round(psafety*ptot,3)) + \",\" + str(round(G*1e12,3)) + \",\" + str(round(Tc*1e3,3)) + \",\" +  str(round(etasky,3)) + \",\" + str(round(arrayNEP,3)))\n",
    "        Output.write(\" \\n\")\n",
    "        Output.write(datetime.datetime.now().ctime())\n",
    "        Output.write(\" \\n\")\n",
    "        Output.write(\"Input file: \" + str(InputFileName))\n",
    "        Output.close()\n",
    "        \n",
    "        #the same file as above, but the filename contains a time stamp.\n",
    "        #This way, a record of output is automatically generated and not rewritten each time NETbook is run. \n",
    "        filename = 'OutputValues.' + str(datetime.datetime.now()) + \".txt\"\n",
    "        save_path = 'OUTPUT_FILES'\n",
    "        Output1 = open(os.path.join(save_path, filename), \"w\")\n",
    "        Output1.write(\"Psat, G, Tc, eta_system, NET\") #etasystem is the total system efficiency from the sky down to the detectors\n",
    "        Output1.write(\" \\n\")\n",
    "        Output1.write(str(round(psafety*ptot,3)) + \",\" + str(round(G*1e12,3)) + \",\" + str(round(Tc*1e3,3)) + \",\" +  str(round(etasky,3)) + \",\" + str(round(arrayNEP,3)))\n",
    "        Output1.write(\" \\n\")\n",
    "        Output1.write(datetime.datetime.now().ctime())\n",
    "        Output1.write(\" \\n\")\n",
    "        Output1.write(\"Input file: \" + str(InputFileName))\n",
    "        Output1.close()\n",
    "    \n",
    "        #Output2 is rewritten each time\n",
    "        Output2 = open(\"OpticValues.txt\", \"w\")\n",
    "        Output2.write(\"Elementname, Emissivity, Efficiency, Temperature, Loading Power\")\n",
    "        Output2.write(\" \\n\")\n",
    "    \n",
    "        for i in range(noptics - 1):\n",
    "            Output2.write(str(opticsinfo[i].name) + \",\" + str(round((1 - opticsinfo[i].etaa),3)) + \",\" + str(round(opticsinfo[i].trans,3)) + \",\" + str(round(opticsinfo[i].T,3)) +  \",\" + str(round(opticsinfo[i].pload,3)))\n",
    "            Output2.write(\" \\n\")\n",
    "    \n",
    "        \n",
    "        Output2.write(datetime.datetime.now().ctime())\n",
    "        Output2.write(\" \\n\")\n",
    "        Output2.write(\"Input file: \" + str(InputFileName))\n",
    "        Output2.close() \n",
    "\n",
    "        #same as Output 2, but now we timestamp the filename so that a record is generated (not rewritten every time)\n",
    "        save_path = 'OUTPUT_FILES'\n",
    "        filename_optics = 'OpticValues.' + str(datetime.datetime.now()) + \".txt\"\n",
    "        Output3 = open(os.path.join(save_path, filename_optics), \"w\")\n",
    "        Output3.write(\"Elementname, Emissivity, Efficiency, Temperature, Loading Power\")\n",
    "        Output3.write(\" \\n\")\n",
    "    \n",
    "        for i in range(noptics - 1):\n",
    "            Output3.write(str(opticsinfo[i].name) + \",\" + str(round((1 - opticsinfo[i].etaa),3)) + \",\" + str(round(opticsinfo[i].trans,3)) + \",\" + str(round(opticsinfo[i].T,3)) +  \",\" + str(round(opticsinfo[i].pload,3)))\n",
    "            Output3.write(\" \\n\")\n",
    "    \n",
    "        \n",
    "        Output3.write(datetime.datetime.now().ctime())\n",
    "        Output3.write(\" \\n\")\n",
    "        Output3.write(\"Input file: \" + str(InputFileName))\n",
    "        Output3.close() \n",
    "        \n",
    "        print(\" \") \n",
    "        print(\"Summary of Key Values:\")\n",
    "        print(\"\")\n",
    "        print(\"Psat = \" + str(round(Psat*1e12,3)) + ' pW')\n",
    "        print(\"G = \" + str(round(G*1e12,3)) + ' pW/K')\n",
    "        print(\"Tc = \" + str(round(Tc*1e3,3))+' mK')  \n",
    "        print(\"efficiency of detectors, etadet: \" + str(etadet))\n",
    "        print(\"overall efficiency from CMB sky down to detectors: \" + str(round(etasky,3)))\n",
    "        \n",
    "\n",
    "        print(\"ATMOSPHERE PWV: \" + str(pwv) + \" mm\")\n",
    "        print(\"ATMOSPHERE mean Tatm: \" + str(round(mTatm,3)) + \" K\")\n",
    "        print(\" \")\n",
    "        print(\"The total of all the power terms is: \" + str(round(ptot,3)) + \" pW\")\n",
    "        print(\"Mirrors + window + lenses + stop are: \" + str(round(popt,3)) + \" pW\")\n",
    "        print(\"Psat safety factor is \" + str(round(psafety,3)))\n",
    "        print(\"Tbath = \" + str(round(Tbath*1e3)) + \" mK\")\n",
    "        print(\"Ndets = \" + str(nTES) + \" (Number of TESes; two TESes per horn)\")\n",
    "        print(\"yield = \" + str(yieldFrac*100.0) + \"%\" + \"(Assume \" + str(round((1-yieldFrac)*100,1)) + \"% of detectors are broken.)\" )\n",
    "        print(\"nu = \" + str(nu) + \"+/-\" + str(deltanu) + \" GHz\")\n",
    "        print(\"mean delta nu = \" + str(mean_delta_nu) + \" GHz\")\n",
    "        \n",
    "        print(\"frequency range: \")\n",
    "        g=open('FreqRange.txt',\"r\")\n",
    "        line=g.readlines()\n",
    "        print(\"Lowest frequency: \" + str(line[0].split(',')[0]) + \" GHz\")\n",
    "        print(\"Highest frequency: \" + str(line[0].split(',')[1]) + \" GHz\")\n",
    "        g.close()\n",
    "\n",
    "        print(\"\")\n",
    "        print(\"The Total NEP is: \" + str(round(NEPtot*1e17,3)) + 'e-17 W/rt(Hz)')\n",
    "        print(\"The NEP from G is: \" + str(round(NEPG*1e17,3)) + 'e-17 W/rt(Hz)')\n",
    "        print(\"The shot noise NEP is: \" + str(round(NEPshot*1e17,3)) + 'e-17 W/rt(Hz)')\n",
    "        print(\"The dicke NEP is: \" + str(round(NEPdicke*1e17,3)) + 'e-17 W/rt(Hz)')\n",
    "        print(\"The Total Photon NEP is: \" + str(round(NEPphoton*1e17,3)) + 'e-17 W/rt(Hz)')\n",
    "        print(\"The total sky NEP is: \" + str(round(NEPsky*1e17,3)) + 'e-17 W/rt(Hz)')\n",
    "        print(\"CMB factor, r, (including eta and rt(2) ) is:  \" +  str(round(r*1.0e-11,3)) + \"e+17 muK rt(s)/W_det rt(Hz)\")\n",
    "        print(\"To convert pW at detector to K_CMB fluctuations from sky, \" + \"use : \" + str(round(factorKpW,3)))\n",
    "        print(\"\")\n",
    "        print(\"NET cmb is: \" + str(round(NEPtotcmb)) + \" microK rt (s)\")\n",
    "        print(\"Net array sensitivity: \" + str(round(arrayNEP,3)) + \" microK rt (s)\")\n",
    "        print(\"\")\n",
    "  \n",
    "    return SensStruct(\n",
    "        nu, deltanu, etadet, pwv, Tbath, psafety, nTES, yieldFrac, opticsinfo,\n",
    "        ptot, popt, patm, psky, Psat, G, Tc, NEPG, NEPshot, NEPdicke, \n",
    "        NEPphoton, NEPsky, NEPtot, NEPtotcmb, arrayNEP, etasky, r)\n",
    "    "
   ]
  },
  {
   "cell_type": "markdown",
   "metadata": {},
   "source": [
    "Above, we write and ouput two files: $\\it{OutputValues.txt}$, which contains the calculated Psat, G, Tc, total optical efficiency of the system, Net array sensitvity, as well as $\\it{OpticValues.txt}$, which contains the emissivity, efficiency, temperature in Kelvin, and loading power in pW of each optical element from the CMB down to the detectors.  These files can be used as input for $\\bf{NUBook}$, a separate noise spectrum code module that will account for systematics such as $\\frac{1}{f}$ noise. $\\bf{NETbook}$ outputs and ancillary information will be the $\\bf{NUBook}$ inputs, and its output will be requirements set on the power spectrum of optical elements’ temperatures.\n",
    "\n",
    "Other values not included in these files, such as the NEP from various noise sources, are printed."
   ]
  },
  {
   "cell_type": "markdown",
   "metadata": {},
   "source": [
    "Below is the function $\\bf{pload}$ for calculating the loading power of an element. This function works in tandem with the function $\\bf{Pow}$ that was defined earlier. First, we step through each optical element from the detectors up to the optical element we are considering to calculate the total transmission up to that point. Then, $\\eta_{to}$, the total loss from the CMB down to element n, is defined for the element by multiplying the calculated transmission up to that element by its emissivity. Finally, loading power is calculated for the element. A special procedure is specified to calculate the atmosphere's load. Some of the equations employed here to obtain the atmospheric loading power are discussed earlier in the section describing the function $\\bf{get}$_$\\bf{Tatm}$ (which is called here)."
   ]
  },
  {
   "cell_type": "code",
   "execution_count": 14,
   "metadata": {
    "collapsed": false
   },
   "outputs": [],
   "source": [
    "def pload(opticsinfo, index, filter, savefile = 'atm_act.sav'):\n",
    "    \n",
    "    noptics = len(opticsinfo) #number of optical elements\n",
    "    etahere = 1.0 #start with 100% transmission\n",
    "\n",
    "    for i in range(index+1, noptics):  #steps through the transmission of each optical element to calculate total transmission up to (and excluding) the element we are considering.\n",
    "        etahere = etahere * opticsinfo[i].trans   \n",
    "\n",
    "    opticsinfo[index].etato = etahere * (1.0 - opticsinfo[index].etaa) #Etaa = 1-emissivity\n",
    "\n",
    "    if opticsinfo[index].etato < 1e-7: \n",
    "        opticsinfo[index].etato = 1e-7 #set a realistic minimum\n",
    "\n",
    "    if opticsinfo[index].name == 'ATM':#procedure for calculating the loading power for the Atmosphere\n",
    "        Tatm = get_Tatm(savefile, opticsinfo[index].T, filter.nu)\n",
    "        mTatm = np.sum(Tatm*filter.filt*filter.dnu)/np.sum(filter.filt*filter.dnu)\n",
    "        Tphys = np.max(Tatm) + 1.0\n",
    "        if Tphys < 250: \n",
    "            Tphys = 273.0 #set realistc minimum physical temperature; Increased from 250K; no longer winter season\n",
    "        etatemporary = 1.0 - Tatm/Tphys #Atmospheric absorption factor in array form; See discussion regarding the function get_Tatm(). Note that this is a vector.\n",
    "        etatoatm = 0*etatemporary #Initialize as an array of zeroes. \n",
    "        etasky = etahere #total transmission\n",
    "\n",
    "        for i in range(len(etatemporary)):\n",
    "            if etatemporary[i] > 0.001: #minimum threshold\n",
    "                etatoatm[i] = etasky * (1.0 - etatemporary[i])\n",
    "\n",
    "        for i in range(len(etatoatm)): #Need to make sure etatoatm is <1. \n",
    "            if etatoatm[i] > 1:\n",
    "                etatoatm[i] = 0.9999\n",
    "\n",
    "        opticsinfo[index].pload = Pow(\n",
    "            eta = etatoatm, filter = filter, temp = Tphys, n0 = None, \n",
    "            name = 'ATM', quiet = True)  #call Pow() to calculate loading power\n",
    "        opticsinfo[index].T = mTatm\n",
    "\n",
    "    else: #for all other optical elements\n",
    "        opticsinfo[index].pload = Pow(\n",
    "            eta = opticsinfo[index].etato, filter = filter, \n",
    "            temp = opticsinfo[index].T, name = opticsinfo[index].name,\n",
    "            quiet = True)\n"
   ]
  },
  {
   "cell_type": "markdown",
   "metadata": {},
   "source": [
    "The function $\\bf{Calculate}$ is called below. Each parameter is assigned a value according to the file imported earlier. In this example, the frequency center $\\nu$ and the corresponding $\\Delta \\nu$ and $\\sigma$ are all assigned values from the file. Filter is set to $\\bf{None}$."
   ]
  },
  {
   "cell_type": "code",
   "execution_count": 15,
   "metadata": {
    "collapsed": false
   },
   "outputs": [
    {
     "name": "stdout",
     "output_type": "stream",
     "text": [
      " \n",
      "Summary of Key Values:\n",
      "\n",
      "Psat = 8.501 pW\n",
      "G = 193.748 pW/K\n",
      "Tc = 162.347 mK\n",
      "efficiency of detectors, etadet: 0.7\n",
      "overall efficiency from CMB sky down to detectors: 0.272\n",
      "ATMOSPHERE PWV: 1.0 mm\n",
      "ATMOSPHERE mean Tatm: 9.175 K\n",
      " \n",
      "The total of all the power terms is: 2.834 pW\n",
      "Mirrors + window + lenses + stop are: 1.637 pW\n",
      "Psat safety factor is 3.0\n",
      "Tbath = 100.0 mK\n",
      "Ndets = 1024.0 (Number of TESes; two TESes per horn)\n",
      "yield = 70.0%(Assume 30.0% of detectors are broken.)\n",
      "nu = 145.0+/-34.0 GHz\n",
      "mean delta nu = 34.01 GHz\n",
      "frequency range: \n",
      "Lowest frequency: 124.29 GHz\n",
      "Highest frequency: 165.71 GHz\n",
      "\n",
      "The Total NEP is: 3.604e-17 W/rt(Hz)\n",
      "The NEP from G is: 1.68e-17 W/rt(Hz)\n",
      "The shot noise NEP is: 2.333e-17 W/rt(Hz)\n",
      "The dicke NEP is: 2.173e-17 W/rt(Hz)\n",
      "The Total Photon NEP is: 3.189e-17 W/rt(Hz)\n",
      "The total sky NEP is: 1.773e-17 W/rt(Hz)\n",
      "CMB factor, r, (including eta and rt(2) ) is:  92.813e+17 muK rt(s)/W_det rt(Hz)\n",
      "To convert pW at detector to K_CMB fluctuations from sky, use : 13.126\n",
      "\n",
      "NET cmb is: 335.0 microK rt (s)\n",
      "Net array sensitivity: 12.494 microK rt (s)\n",
      "\n"
     ]
    },
    {
     "data": {
      "text/plain": [
       "<__main__.SensStruct instance at 0x10b377908>"
      ]
     },
     "execution_count": 15,
     "metadata": {},
     "output_type": "execute_result"
    }
   ],
   "source": [
    "Set_filter = None\n",
    "nu = float(InputValues[0])\n",
    "deltanu = float(InputValues[1])\n",
    "sigma = float(InputValues[17])\n",
    "                \n",
    "Calculate(nu = nu, deltanu = deltanu, quiet = False, etadet = float(InputValues[3]), pwv = float(InputValues[4]),\n",
    "        etafeed = float(InputValues[5]), etamir = float(InputValues[6]), Tbath = float(InputValues[7]), \n",
    "        etalensa = float(InputValues[8]), etawinr = float(InputValues[9]), etawina = float(InputValues[10]), \n",
    "        psafety = float(InputValues[11]), Twin = float(InputValues[12]), Tmir = float(InputValues[13]), \n",
    "        T4K = float(InputValues[14]), Tstop = float(InputValues[15]), etafilta = float(InputValues[16]), \n",
    "        sigma = sigma, nTES = float(InputValues[18]), yieldFrac = float(InputValues[19]), \n",
    "        etafiltr = float(InputValues[20]), etairfilt = float(InputValues[21]), totpow = float(InputValues[22]), \n",
    "        TLP40K = float(InputValues[23]), TLP4K = float(InputValues[24]), TLP1K = float(InputValues[25]), \n",
    "        T1K = float(InputValues[26]), T100mK = float(InputValues[27]), etalensr = float(InputValues[28]), \n",
    "        n = None, flink = None, filter = Set_filter, savefile = 'atm_act.sav')\n"
   ]
  },
  {
   "cell_type": "markdown",
   "metadata": {},
   "source": [
    "Below, we demonstrate how NETbook can be used to generate plots of the mapping speed ratio as a function of variation in the parameters. This is useful for determining the relative importance of each parameter and is therefore a good tool for the design stage. \n",
    "\n",
    "First, we must assign a default NET. We will plot the mapping speed ratio, $\\frac{NET^2}{NET_{default}^2}$."
   ]
  },
  {
   "cell_type": "code",
   "execution_count": 16,
   "metadata": {
    "collapsed": false
   },
   "outputs": [],
   "source": [
    "Calculate(nu = nu, deltanu = deltanu, quiet = True, etadet = float(InputValues[3]), pwv = float(InputValues[4]),\n",
    "    etafeed = float(InputValues[5]), etamir = float(InputValues[6]), Tbath = float(InputValues[7]), \n",
    "    etalensa = float(InputValues[8]), etawinr = float(InputValues[9]), etawina = float(InputValues[10]), \n",
    "    psafety = float(InputValues[11]), Twin = float(InputValues[12]), Tmir = float(InputValues[13]), \n",
    "    T4K = float(InputValues[14]), Tstop = float(InputValues[15]), etafilta = float(InputValues[16]), \n",
    "    sigma = sigma, nTES = float(InputValues[18]), yieldFrac = float(InputValues[19]), \n",
    "    etafiltr = float(InputValues[20]), etairfilt = float(InputValues[21]), totpow = float(InputValues[22]), \n",
    "    TLP40K = float(InputValues[23]), TLP4K = float(InputValues[24]), TLP1K = float(InputValues[25]), \n",
    "    T1K = float(InputValues[26]), T100mK = float(InputValues[27]), etalensr = float(InputValues[28]), \n",
    "    n = None, flink = None, filter = Set_filter, savefile = 'atm_act.sav')\n",
    "#Here we again use the values imported from the file \"Default_Input.txt, \n",
    "#but any desired default could be set.\n",
    "\n",
    "g=open('NETValues.txt',\"r\")\n",
    "line=g.readlines()\n",
    "NETdefault = float(line[1])\n",
    "NETdefault_factor = 1/(NETdefault**2)                                                                                                                                                                                                                                                                                                                                                                                                                                                                                                                                                                                                                                                                                                                                                                                                                                                                                                                                                                                                                                                                                                                                                                                                                                                                                                                                                                                                                                                                                                                                                                                                                                                                                                                                                                                                                                                                                                                                                                                                                                                                                                                                                                                                                                                                                                                                                                                                                                                                                                                                                                                                                                                                                                                                                                                                                                                                                                                                                                                                                                                                                                                                                                                                                                                                                                                                                                                                                                                                                                                              \n",
    "g.close() "
   ]
  },
  {
   "cell_type": "markdown",
   "metadata": {},
   "source": [
    "Here we plot mapping speed ratio as a function of the stop spillover, $\\eta_{feed}$. The equation for a line of best fit is also calculated and printed. (Even if the plot is not linear, it can be approximated as such)."
   ]
  },
  {
   "cell_type": "code",
   "execution_count": 17,
   "metadata": {
    "collapsed": false
   },
   "outputs": [
    {
     "name": "stdout",
     "output_type": "stream",
     "text": [
      "Line of best fit: \n",
      " \n",
      "-0.7273 x + 1.468\n"
     ]
    },
    {
     "data": {
      "image/png": "[encoded data removed]",
      "text/plain": [
       "<matplotlib.figure.Figure at 0x103bcea90>"
      ]
     },
     "metadata": {},
     "output_type": "display_data"
    }
   ],
   "source": [
    "Set_filter = None\n",
    "nu = float(InputValues[0])\n",
    "deltanu = float(InputValues[1])\n",
    "sigma = float(InputValues[17])\n",
    "\n",
    "etafeed1 = []\n",
    "for i in np.arange(0.55, 1.0, 0.01):\n",
    "    etafeed1.append(i)  \n",
    "  \n",
    "NETarray = []     \n",
    "           \n",
    "for each in etafeed1: \n",
    "    etafeed = each\n",
    "    Calculate(nu = nu, deltanu = deltanu, quiet = True, etadet = float(InputValues[3]), pwv = float(InputValues[4]),\n",
    "        etafeed = etafeed, etamir = float(InputValues[6]), Tbath = float(InputValues[7]), \n",
    "        etalensa = float(InputValues[8]), etawinr = float(InputValues[9]), etawina = float(InputValues[10]), \n",
    "        psafety = float(InputValues[11]), Twin = float(InputValues[12]), Tmir = float(InputValues[13]), \n",
    "        T4K = float(InputValues[14]), Tstop = float(InputValues[15]), etafilta = float(InputValues[16]), \n",
    "        sigma = sigma, nTES = float(InputValues[18]), yieldFrac = float(InputValues[19]), \n",
    "        etafiltr = float(InputValues[20]), etairfilt = float(InputValues[21]), totpow = float(InputValues[22]), \n",
    "        TLP40K = float(InputValues[23]), TLP4K = float(InputValues[24]), TLP1K = float(InputValues[25]), \n",
    "        T1K = float(InputValues[26]), T100mK = float(InputValues[27]), etalensr = float(InputValues[28]), \n",
    "        n = None, flink = None, filter = Set_filter, savefile = 'atm_act.sav')\n",
    "    \n",
    "    g=open('NETValues.txt',\"r\")\n",
    "    line=g.readlines()\n",
    "    NEThere = float(line[1])                                                                                                                                                                                                                                                                                                                                                                                                                                                                                                                                                                                                                                                                                                                                                                                                                                                                                                                                                                                                                                                                                                                                                                                                                                                                                                                                                                                                                                                                                                                                                                                                                                                                                                                                                                                                                                                                                                                                                                                                                                                                                                                                                                                                                                                                                                                                                                                                                                                                                                                                                                                                                                                                                                                                                                                                                                                                                                                                                                                                                                                                                                                                                                                                                                                                                                                                                                                                                                                                                                                              \n",
    "    g.close() \n",
    "    NETarray.append(NEThere)\n",
    "    \n",
    "MappingRatio = []\n",
    "for each in NETarray:\n",
    "    MappingRatio.append(NETdefault_factor*each**2)\n",
    "\n",
    "plt.plot(etafeed1, MappingRatio, 'k-')\n",
    "\n",
    "coefficients = np.polyfit(etafeed1, MappingRatio, 1)\n",
    "polynomial = np.poly1d(coefficients)\n",
    "ys = polynomial(etafeed1)\n",
    "print(\"Line of best fit: \")\n",
    "print(polynomial)\n",
    "\n",
    "plt.xlabel('etafeed')\n",
    "plt.ylabel('Mapping Speed Ratio (NET/NETdefault)^2')\n",
    "\n",
    "plt.title('Sensitivity to Stop Spillover')\n",
    "\n",
    "plt.show()   "
   ]
  },
  {
   "cell_type": "markdown",
   "metadata": {},
   "source": [
    "A similar plot is made below for the safety factor, S. Comparing the magnitudes of the slopes of the lines of best fit, we see that S matters less (by an order of magnitude) than stop spillover. "
   ]
  },
  {
   "cell_type": "code",
   "execution_count": 18,
   "metadata": {
    "collapsed": false
   },
   "outputs": [
    {
     "name": "stdout",
     "output_type": "stream",
     "text": [
      "Line of best fit: \n",
      " \n",
      "0.07239 x + 0.7828\n"
     ]
    },
    {
     "data": {
      "image/png": "[encoded data removed]",
      "text/plain": [
       "<matplotlib.figure.Figure at 0x10b397f50>"
      ]
     },
     "metadata": {},
     "output_type": "display_data"
    }
   ],
   "source": [
    "Set_filter = None\n",
    "nu = float(InputValues[0])\n",
    "deltanu = float(InputValues[1])\n",
    "sigma = float(InputValues[17])\n",
    "\n",
    "psafety1 = []\n",
    "for i in np.arange(2., 6., 0.1):\n",
    "    psafety1.append(i)\n",
    "        \n",
    "NETarray = []     \n",
    "           \n",
    "for each in psafety1:\n",
    "    psafety = each\n",
    "                  \n",
    "    Calculate(nu = nu, deltanu = deltanu, quiet = True, etadet = float(InputValues[3]), pwv = float(InputValues[4]),\n",
    "        etafeed = float(InputValues[5]), etamir = float(InputValues[6]), Tbath = float(InputValues[7]), \n",
    "        etalensa = float(InputValues[8]), etawinr = float(InputValues[9]), etawina = float(InputValues[10]), \n",
    "        psafety = psafety, Twin = float(InputValues[12]), Tmir = float(InputValues[13]), \n",
    "        T4K = float(InputValues[14]), Tstop = float(InputValues[15]), etafilta = float(InputValues[16]), \n",
    "        sigma = sigma, nTES = float(InputValues[18]), yieldFrac = float(InputValues[19]), \n",
    "        etafiltr = float(InputValues[20]), etairfilt = float(InputValues[21]), totpow = float(InputValues[22]), \n",
    "        TLP40K = float(InputValues[23]), TLP4K = float(InputValues[24]), TLP1K = float(InputValues[25]), \n",
    "        T1K = float(InputValues[26]), T100mK = float(InputValues[27]), etalensr = float(InputValues[28]), \n",
    "        n = None, flink = None, filter = Set_filter, savefile = 'atm_act.sav')\n",
    "    \n",
    "    g=open('NETValues.txt',\"r\")\n",
    "    line=g.readlines()\n",
    "    NEThere = float(line[1])                                                                                                                                                                                                                                                                                                                                                                                                                                                                                                                                                                                                                                                                                                                                                                                                                                                                                                                                                                                                                                                                                                                                                                                                                                                                                                                                                                                                                                                                                                                                                                                                                                                                                                                                                                                                                                                                                                                                                                                                                                                                                                                                                                                                                                                                                                                                                                                                                                                                                                                                                                                                                                                                                                                                                                                                                                                                                                                                                                                                                                                                                                                                                                                                                                                                                                                                                                                                                                                                                                                             \n",
    "    g.close() \n",
    "    NETarray.append(NEThere)\n",
    "    \n",
    "MappingRatio = []\n",
    "for each in NETarray:\n",
    "    MappingRatio.append(NETdefault_factor*each**2)\n",
    "\n",
    "plt.plot(psafety1, MappingRatio, 'k-')\n",
    "\n",
    "coefficients = np.polyfit(psafety1, MappingRatio, 1)\n",
    "polynomial = np.poly1d(coefficients)\n",
    "ys = polynomial(psafety1)\n",
    "print(\"Line of best fit: \")\n",
    "print(polynomial)\n",
    "\n",
    "plt.xlabel('Safety factor, S')\n",
    "plt.ylabel('Mapping speed ratio (NET/NET_default)^2')\n",
    "plt.title('Sensitivity to Safety Factor')\n",
    "\n",
    "plt.show()       "
   ]
  },
  {
   "cell_type": "markdown",
   "metadata": {},
   "source": [
    "Plots such as these can be generated for all parameters."
   ]
  },
  {
   "cell_type": "markdown",
   "metadata": {},
   "source": [
    "Below, we create a table of the AdvACT forecast by reading in the values stored in the file, $\\it{OpticValues.txt}$. Note that for the filters and lenses towards the end of the table, the loading power is so low that it is rounded to zero. See the file $\\it{Default}$_$\\it{Input.txt}$ for the input parameters used when producing these numbers."
   ]
  },
  {
   "cell_type": "code",
   "execution_count": 16,
   "metadata": {
    "collapsed": false
   },
   "outputs": [
    {
     "name": "stdout",
     "output_type": "stream",
     "text": [
      "AdvAct Forecast with: \n",
      "Psat = 8.501 pW\n",
      "G = 193.748 pW/K\n",
      "Tc = 162.347 mK\n",
      "Total system efficiency = 0.272\n",
      "NET = 12.494 \n",
      " microK rt (s)\n"
     ]
    },
    {
     "data": {
      "text/html": [
       "<table><tr><td>Optical Element</td><td>Emissivity</td><td>Efficiency</td><td>Temperature (K) *</td><td>Loading Power (pW)</td></tr><tr><td>CMB</td><td>0.0</td><td>1.0</td><td>2.725</td><td>0.0 \n",
       "</td></tr><tr><td>ATM</td><td>0.034</td><td>0.966</td><td>9.175</td><td>1.197 \n",
       "</td></tr><tr><td>MIR1</td><td>0.015</td><td>0.985</td><td>273.0</td><td>0.542 \n",
       "</td></tr><tr><td>MIR2</td><td>0.015</td><td>0.985</td><td>273.0</td><td>0.551 \n",
       "</td></tr><tr><td>WIN</td><td>0.01</td><td>0.983</td><td>273.0</td><td>0.374 \n",
       "</td></tr><tr><td>IR1</td><td>0.0</td><td>1.0</td><td>273.0</td><td>0.013 \n",
       "</td></tr><tr><td>IR2</td><td>0.0</td><td>1.0</td><td>170.0</td><td>0.008 \n",
       "</td></tr><tr><td>LP40</td><td>0.006</td><td>0.94</td><td>60.0</td><td>0.05 \n",
       "</td></tr><tr><td>IR3</td><td>0.0</td><td>1.0</td><td>60.0</td><td>0.003 \n",
       "</td></tr><tr><td>IR4</td><td>0.0</td><td>1.0</td><td>40.0</td><td>0.002 \n",
       "</td></tr><tr><td>LP4K</td><td>0.006</td><td>0.94</td><td>10.0</td><td>0.007 \n",
       "</td></tr><tr><td>lens1</td><td>0.03</td><td>0.965</td><td>4.5</td><td>0.009 \n",
       "</td></tr><tr><td>STOP</td><td>0.36</td><td>0.64</td><td>1.2</td><td>0.002 \n",
       "</td></tr><tr><td>lens2</td><td>0.03</td><td>0.965</td><td>1.2</td><td>0.0 \n",
       "</td></tr><tr><td>LP1a</td><td>0.006</td><td>0.94</td><td>1.2</td><td>0.0 \n",
       "</td></tr><tr><td>LP1b</td><td>0.006</td><td>0.94</td><td>1.2</td><td>0.0 \n",
       "</td></tr><tr><td>lens3</td><td>0.03</td><td>0.965</td><td>1.2</td><td>0.0 \n",
       "</td></tr><tr><td>LPp1</td><td>0.006</td><td>0.94</td><td>0.1</td><td>0.0 \n",
       "</td></tr></table>"
      ],
      "text/plain": [
       "[['Optical Element',\n",
       "  'Emissivity',\n",
       "  'Efficiency',\n",
       "  'Temperature (K) *',\n",
       "  'Loading Power (pW)'],\n",
       " ['CMB', '0.0', '1.0', '2.725', '0.0 \\n'],\n",
       " ['ATM', '0.034', '0.966', '9.175', '1.197 \\n'],\n",
       " ['MIR1', '0.015', '0.985', '273.0', '0.542 \\n'],\n",
       " ['MIR2', '0.015', '0.985', '273.0', '0.551 \\n'],\n",
       " ['WIN', '0.01', '0.983', '273.0', '0.374 \\n'],\n",
       " ['IR1', '0.0', '1.0', '273.0', '0.013 \\n'],\n",
       " ['IR2', '0.0', '1.0', '170.0', '0.008 \\n'],\n",
       " ['LP40', '0.006', '0.94', '60.0', '0.05 \\n'],\n",
       " ['IR3', '0.0', '1.0', '60.0', '0.003 \\n'],\n",
       " ['IR4', '0.0', '1.0', '40.0', '0.002 \\n'],\n",
       " ['LP4K', '0.006', '0.94', '10.0', '0.007 \\n'],\n",
       " ['lens1', '0.03', '0.965', '4.5', '0.009 \\n'],\n",
       " ['STOP', '0.36', '0.64', '1.2', '0.002 \\n'],\n",
       " ['lens2', '0.03', '0.965', '1.2', '0.0 \\n'],\n",
       " ['LP1a', '0.006', '0.94', '1.2', '0.0 \\n'],\n",
       " ['LP1b', '0.006', '0.94', '1.2', '0.0 \\n'],\n",
       " ['lens3', '0.03', '0.965', '1.2', '0.0 \\n'],\n",
       " ['LPp1', '0.006', '0.94', '0.1', '0.0 \\n']]"
      ]
     },
     "execution_count": 16,
     "metadata": {},
     "output_type": "execute_result"
    }
   ],
   "source": [
    "h=open('OutputValues.txt',\"r\")\n",
    "line2=h.readlines()\n",
    "print(\"AdvAct Forecast with: \")\n",
    "print(\"Psat = \" + str(line2[1].split(',')[0]) + \" pW\")     \n",
    "print(\"G = \" + str(line2[1].split(',')[1]) + \" pW/K\")     \n",
    "print(\"Tc = \" +  str(line2[1].split(',')[2]) + \" mK\")   \n",
    "print(\"Total system efficiency = \" + str(line2[1].split(',')[3]))     \n",
    "print(\"NET = \" + str(line2[1].split(',')[4]) + \" microK rt (s)\")\n",
    "\n",
    "g=open('OpticValues.txt',\"r\")\n",
    "line=g.readlines()\n",
    "\n",
    "table = ListTable()\n",
    "table.append(['Optical Element', 'Emissivity', 'Efficiency', 'Temperature (K) *', 'Loading Power (pW)'])\n",
    "for i in range(1, len(line)-2):\n",
    "    table.append([line[i].split(',')[0], line[i].split(',')[1], line[i].split(',')[2], line[i].split(',')[3], line[i].split(',')[4]])\n",
    "g.close()\n",
    "table"
   ]
  },
  {
   "cell_type": "markdown",
   "metadata": {},
   "source": [
    "$* $\n",
    "Note that for the temperature of the atmosphere, the value printed in the table above is the Rayleigh–Jeans temperature rather than the physical temperature of the atmosphere."
   ]
  },
  {
   "cell_type": "markdown",
   "metadata": {},
   "source": [
    "$\\bf{Remarks}$ \n",
    "\n",
    "This versatile code module can be adapted to complete calculations specific to the Simons Observatory. It is easy to slot in additional optical elements, for example a HWP, and to modify or remove existing optical elements. The function $\\bf{Calculate}$ can be called with values from any file in the form of $\\it{Default}$_$\\it{Input.txt}$. NETbook can also accomodate a variety of filter functions. "
   ]
  }
 ],
 "metadata": {
  "anaconda-cloud": {},
  "kernelspec": {
   "display_name": "Python [Root]",
   "language": "python",
   "name": "Python [Root]"
  },
  "language_info": {
   "codemirror_mode": {
    "name": "ipython",
    "version": 2
   },
   "file_extension": ".py",
   "mimetype": "text/x-python",
   "name": "python",
   "nbconvert_exporter": "python",
   "pygments_lexer": "ipython2",
   "version": "2.7.12"
  }
 },
 "nbformat": 4,
 "nbformat_minor": 0
}
